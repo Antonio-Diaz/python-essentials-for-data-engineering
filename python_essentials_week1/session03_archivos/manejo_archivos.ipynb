{
 "cells": [
  {
   "cell_type": "code",
   "execution_count": 1,
   "id": "55dd966b-13b7-41ca-baa6-87f2df1d3c4d",
   "metadata": {},
   "outputs": [],
   "source": [
    "## MANEJO DE ARCHIVOS"
   ]
  },
  {
   "cell_type": "code",
   "execution_count": null,
   "id": "86f3c0de-8b66-4720-beb1-2f1af0442376",
   "metadata": {},
   "outputs": [],
   "source": [
    "# CSV, JSON, PARQUET"
   ]
  },
  {
   "cell_type": "code",
   "execution_count": 3,
   "id": "83041402-b9e7-4c44-b4ad-4efa5ed3967b",
   "metadata": {},
   "outputs": [],
   "source": [
    "# IMPORTAR LIBERIAS\n",
    "from pathlib import Path"
   ]
  },
  {
   "cell_type": "code",
   "execution_count": 6,
   "id": "ee6ff6e9-8af8-43b3-a7a5-7a04eded79dd",
   "metadata": {},
   "outputs": [],
   "source": [
    "# CREAR ARCHIVOS\n",
    "# Manejar directorios(folders), archvios, etc.\n",
    "path: Path = Path(\"data/ejemplo.txt\")\n",
    "path.parent.mkdir(exist_ok=True)"
   ]
  },
  {
   "cell_type": "code",
   "execution_count": 7,
   "id": "59bf2015-12c5-4606-8bcb-cc0bb9a9615b",
   "metadata": {},
   "outputs": [],
   "source": [
    "# Escritura el poder escribir en archivo(child) que defini en mi path\n",
    "with path.open(\"wt\", encoding=\"utf-8\") as f:\n",
    "    f.write(\"Hola Mundo\\n\") "
   ]
  },
  {
   "cell_type": "code",
   "execution_count": 9,
   "id": "ce90d4f4-937c-436e-a72a-5af6268b101e",
   "metadata": {},
   "outputs": [
    {
     "name": "stdout",
     "output_type": "stream",
     "text": [
      "Hola Mundo\n",
      "\n"
     ]
    }
   ],
   "source": [
    "# Lectura del arhcivo ejemplo.txt\n",
    "with path.open(\"rt\", encoding=\"utf-8\") as f:\n",
    "    content = f.read()\n",
    "    print(content)"
   ]
  },
  {
   "cell_type": "code",
   "execution_count": null,
   "id": "fe3da0ba-9993-410d-b9d7-32a271273d45",
   "metadata": {},
   "outputs": [],
   "source": [
    "# ARCHIVOS CSV\n",
    "# headers\n",
    "# sku:str,price:float,qty:int\n",
    "#sku,price,qty\n",
    "#A-01,9.5,3\n",
    "# La \",\" es el delimitador de los valores."
   ]
  },
  {
   "cell_type": "code",
   "execution_count": 11,
   "id": "9a6696a9-fc00-4c37-906d-4b61107bcdd1",
   "metadata": {},
   "outputs": [],
   "source": [
    "# imports\n",
    "import csv # La liberia que nos va ayudar a manejar los archivos csv\n",
    "from pathlib import Path # la liberia que nos va a ayudar a manejar la creacion, lectura y escritura de dictorios y arhivos\n",
    "from typing import Iterator # Manejar los tipos de las funciones"
   ]
  },
  {
   "cell_type": "code",
   "execution_count": 15,
   "id": "077a59c5-7097-4db7-8ff3-35a0aec0c17b",
   "metadata": {},
   "outputs": [],
   "source": [
    "def leer_csv_dict(path: Path, encoding:str = \"utf-8\") -> Iterator[dict[str,str]]:\n",
    "    with path.open(\"rt\", encoding=encoding, newline=\"\") as file:\n",
    "        # guardar en content todo el contenido del archivo\n",
    "        content: dict = csv.DictReader(file)\n",
    "        # Iterar el contenido por renglon\n",
    "        for row in content:\n",
    "            yield row"
   ]
  },
  {
   "cell_type": "code",
   "execution_count": 18,
   "id": "a3ca9de6-ad7a-4bbc-a152-ec5c9076a3cd",
   "metadata": {},
   "outputs": [
    {
     "name": "stdout",
     "output_type": "stream",
     "text": [
      "sku: A-01 price: 9.5 price: 3\n",
      "sku: A-02 price: 12.0 price: 1\n",
      "sku: A-03 price: 1.5 price: 10\n",
      "sku: A-04 price: 2.9 price: 4\n"
     ]
    }
   ],
   "source": [
    "# Utilizar \n",
    "for row in leer_csv_dict(path=Path(\"data/articulos.csv\")):\n",
    "    print(f\"sku: {row[\"sku\"]}\", f\"price: {float(row[\"price\"])}\" , f\"price: {int(row[\"qty\"])}\")"
   ]
  },
  {
   "cell_type": "code",
   "execution_count": 19,
   "id": "5284f3f6-251a-400d-9f33-da922cc6be31",
   "metadata": {},
   "outputs": [],
   "source": [
    "# import\n",
    "import csv\n",
    "from pathlib import Path\n"
   ]
  },
  {
   "cell_type": "code",
   "execution_count": 20,
   "id": "0db9a785-4755-4ed6-af45-c684e4a33e53",
   "metadata": {},
   "outputs": [],
   "source": [
    "# Definir el contenido de mi archivo CSV\n",
    "rows: list[dict[str,str]] = [\n",
    "    {\"sku\": \"A-01\", \"price\": \"9.5\",\"qty\": \"3\"},\n",
    "    {\"sku\": \"A-02\", \"price\": \"12.1\",\"qty\": \"2\"},\n",
    "]"
   ]
  },
  {
   "cell_type": "code",
   "execution_count": 22,
   "id": "0e8c48ce-3112-4776-86e9-e27b59292e4d",
   "metadata": {},
   "outputs": [],
   "source": [
    "# Definir mi archivo con la ayuda de Path\n",
    "path: Path = Path(\"data/articulos_2.csv\")"
   ]
  },
  {
   "cell_type": "code",
   "execution_count": 25,
   "id": "e592af87-594b-4b01-8651-73de80f8a5f1",
   "metadata": {},
   "outputs": [],
   "source": [
    "# Comenzar a iterar \n",
    "with path.open(\"wt\", encoding=\"utf-8\", newline=\"\") as file:\n",
    "    writer: dict = csv.DictWriter(file, fieldnames=[\"sku\",\"price\",\"qty\"])\n",
    "    writer.writeheader()\n",
    "    writer.writerows(rowdicts=rows)"
   ]
  },
  {
   "cell_type": "code",
   "execution_count": 26,
   "id": "5aa49469-fbad-4f99-b0d5-852aeec758a1",
   "metadata": {},
   "outputs": [],
   "source": [
    "### Leer un JSON"
   ]
  },
  {
   "cell_type": "code",
   "execution_count": 27,
   "id": "7ae3dd2d-91c5-41e2-b598-c5a47c2baac4",
   "metadata": {},
   "outputs": [],
   "source": [
    "# Que es un json"
   ]
  },
  {
   "cell_type": "code",
   "execution_count": 28,
   "id": "39b6616a-a314-4ee6-a768-187a97a5672a",
   "metadata": {},
   "outputs": [
    {
     "ename": "SyntaxError",
     "evalue": "leading zeros in decimal integer literals are not permitted; use an 0o prefix for octal integers (3129320111.py, line 3)",
     "output_type": "error",
     "traceback": [
      "  \u001b[36mCell\u001b[39m\u001b[36m \u001b[39m\u001b[32mIn[28]\u001b[39m\u001b[32m, line 3\u001b[39m\n\u001b[31m    \u001b[39m\u001b[31m\"tags\": [\"data\", \"python\", 0001],\u001b[39m\n                               ^\n\u001b[31mSyntaxError\u001b[39m\u001b[31m:\u001b[39m leading zeros in decimal integer literals are not permitted; use an 0o prefix for octal integers\n"
     ]
    }
   ],
   "source": [
    "json dict[str, any] = {\n",
    "    \"name\": \"Ana\",\n",
    "    \"tags\": [\"data\", \"python\", 0001],\n",
    "    \"is_active\": True\n",
    "} "
   ]
  },
  {
   "cell_type": "code",
   "execution_count": 31,
   "id": "3a281eda-2313-4d1f-a978-d0729903e0c1",
   "metadata": {},
   "outputs": [],
   "source": [
    "# IMportar liberias primero\n",
    "import json\n",
    "from pathlib import Path\n",
    "from typing import Any"
   ]
  },
  {
   "cell_type": "code",
   "execution_count": 32,
   "id": "bfbc6da7-b723-4bde-8766-ed021f8bd1af",
   "metadata": {},
   "outputs": [],
   "source": [
    "def leer_json(path: Path, encoding: str = \"utf-8\") -> Any:\n",
    "    with path.open(\"rt\", encoding=encoding) as file:\n",
    "        return json.load(file)"
   ]
  },
  {
   "cell_type": "code",
   "execution_count": 33,
   "id": "4616a69e-99d0-47a1-a3b6-d1cc86235897",
   "metadata": {},
   "outputs": [
    {
     "name": "stdout",
     "output_type": "stream",
     "text": [
      "el contenido del json es: {'name': 'Ana', 'tags': ['data', 'python', 121], 'is_active': True}\n"
     ]
    }
   ],
   "source": [
    "path: Path = Path(\"data/config.json\")\n",
    "content: Any = leer_json(path=path)\n",
    "print(\"el contenido del json es:\", content)"
   ]
  }
 ],
 "metadata": {
  "kernelspec": {
   "display_name": "Python 3 (ipykernel)",
   "language": "python",
   "name": "python3"
  },
  "language_info": {
   "codemirror_mode": {
    "name": "ipython",
    "version": 3
   },
   "file_extension": ".py",
   "mimetype": "text/x-python",
   "name": "python",
   "nbconvert_exporter": "python",
   "pygments_lexer": "ipython3",
   "version": "3.12.3"
  }
 },
 "nbformat": 4,
 "nbformat_minor": 5
}
